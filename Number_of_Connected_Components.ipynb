{
  "nbformat": 4,
  "nbformat_minor": 0,
  "metadata": {
    "colab": {
      "provenance": [],
      "authorship_tag": "ABX9TyOpbU7V/qQ5Q0J9MmC0pu84",
      "include_colab_link": true
    },
    "kernelspec": {
      "name": "python3",
      "display_name": "Python 3"
    },
    "language_info": {
      "name": "python"
    }
  },
  "cells": [
    {
      "cell_type": "markdown",
      "metadata": {
        "id": "view-in-github",
        "colab_type": "text"
      },
      "source": [
        "<a href=\"https://colab.research.google.com/github/sureshv0105/CodeReview/blob/main/Number_of_Connected_Components.ipynb\" target=\"_parent\"><img src=\"https://colab.research.google.com/assets/colab-badge.svg\" alt=\"Open In Colab\"/></a>"
      ]
    },
    {
      "cell_type": "markdown",
      "source": [
        "You have a graph of n nodes. You are given an integer n and an array edges where edges[i] = [ai, bi] indicates that there is an edge between ai and bi in the graph.\n",
        "\n",
        "Return the number of connected components in the graph.\n",
        "\n",
        "Example 1:\n",
        "\n",
        "\n",
        "Input: n = 5, edges = [[0,1],[1,2],[3,4]]\n",
        "Output: 2\n",
        "\n",
        "Input: n = 5, edges = [[0,1],[1,2],[2,3],[3,4]]\n",
        "Output: 1"
      ],
      "metadata": {
        "id": "_e9dJ74sHcZs"
      }
    },
    {
      "cell_type": "markdown",
      "source": [
        "Solution Notes:\n",
        "\n",
        "- You are given n nodes from 0 - n-1. Start from 0th node and perform a DFS.\n",
        "- Initially start with number of connected components = total nodes\n",
        "- Have a visited array\n",
        "- Start with zero - mark as visited, reduce number of connected components by one. Perform DFS. With each new node visited, reduce number of connected components by one.\n"
      ],
      "metadata": {
        "id": "tV6qmGI5Huch"
      }
    },
    {
      "cell_type": "code",
      "execution_count": 16,
      "metadata": {
        "id": "bppxB89AHQva"
      },
      "outputs": [],
      "source": [
        "def numberOfConnectedComponents(n, edges):\n",
        "\n",
        "  if not edges or len(edges) == 0:\n",
        "    return n\n",
        "\n",
        "  visited = [-1] * n\n",
        "  noOfConnectedComponents = 0\n",
        "\n",
        "  graph = build_graph(n, edges)\n",
        "\n",
        "  def dfs(source):\n",
        "\n",
        "    nonlocal noOfConnectedComponents\n",
        "\n",
        "    if visited[source] == 1:\n",
        "      return\n",
        "\n",
        "    # visit source if not visited\n",
        "    visited[source] = 1\n",
        "\n",
        "    # explore its neighbours\n",
        "    neighbors = graph[source]\n",
        "    for neighbor in neighbors:\n",
        "      dfs(neighbor)\n",
        "\n",
        "  for source in range(n):\n",
        "    if visited[source] == -1:\n",
        "      noOfConnectedComponents += 1\n",
        "      dfs(source)\n",
        "\n",
        "\n",
        "  return noOfConnectedComponents\n",
        "\n",
        "def build_graph(n, edges):\n",
        "  graph = {node: [] for node in range(n)}\n",
        "\n",
        "  for source, destination in edges:\n",
        "    graph[source].append(destination)\n",
        "    graph[destination].append(source)\n",
        "\n",
        "  return graph"
      ]
    },
    {
      "cell_type": "code",
      "source": [
        "n = 5\n",
        "edges = [[0,1],[1,2],[2,3]]\n",
        "\n",
        "numberOfConnectedComponents(n, edges)"
      ],
      "metadata": {
        "colab": {
          "base_uri": "https://localhost:8080/"
        },
        "id": "QkG1Cd8iLZ31",
        "outputId": "23550e75-47ed-4f72-b2f4-3a23252f6909"
      },
      "execution_count": 17,
      "outputs": [
        {
          "output_type": "execute_result",
          "data": {
            "text/plain": [
              "2"
            ]
          },
          "metadata": {},
          "execution_count": 17
        }
      ]
    }
  ]
}